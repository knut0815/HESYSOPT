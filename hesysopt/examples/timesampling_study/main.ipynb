{
 "cells": [
  {
   "cell_type": "code",
   "execution_count": null,
   "metadata": {
    "collapsed": false
   },
   "outputs": [],
   "source": [
    "%matplotlib inline\n",
    "\n",
    "import pandas as pd\n",
    "import pdb\n",
    "import pprint\n",
    "from hesysopt.restore_results import restore\n",
    "from scenario_builder import scenarios\n",
    "from run import run_scenario\n",
    "import result_processing as results"
   ]
  },
  {
   "cell_type": "markdown",
   "metadata": {},
   "source": [
    "# Read results and select balances"
   ]
  },
  {
   "cell_type": "code",
   "execution_count": null,
   "metadata": {
    "collapsed": false
   },
   "outputs": [],
   "source": [
    "main_df, colors = restore(list(scenarios.keys()))\n",
    "idx = pd.IndexSlice\n",
    "heat_df = main_df.loc[idx['heat_balance','to_bus',:,:,:]].unstack(['Scenario', 'obj_label'])\n",
    "heat_df.columns = heat_df.columns.droplevel([0])\n",
    "el_df = main_df.loc[idx['electrical_balance', 'to_bus', :, :, :]].unstack(['Scenario', 'obj_label'])\n"
   ]
  },
  {
   "cell_type": "code",
   "execution_count": null,
   "metadata": {
    "collapsed": false
   },
   "outputs": [],
   "source": [
    "heat_df.iloc[1:168].plot()\n",
    "\n",
    "\n",
    "\n"
   ]
  }
 ],
 "metadata": {
  "kernelspec": {
   "display_name": "Python 3",
   "language": "python",
   "name": "python3"
  },
  "language_info": {
   "codemirror_mode": {
    "name": "ipython",
    "version": 3
   },
   "file_extension": ".py",
   "mimetype": "text/x-python",
   "name": "python",
   "nbconvert_exporter": "python",
   "pygments_lexer": "ipython3",
   "version": "3.5.2"
  }
 },
 "nbformat": 4,
 "nbformat_minor": 1
}
