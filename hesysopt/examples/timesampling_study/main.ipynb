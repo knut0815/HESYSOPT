{
 "cells": [
  {
   "cell_type": "code",
   "execution_count": 8,
   "metadata": {
    "collapsed": false
   },
   "outputs": [],
   "source": [
    "import pdb\n",
    "import pprint\n",
    "from scenario_builder import scenarios\n",
    "from run import run_scenario\n",
    "import results_processing as results"
   ]
  },
  {
   "cell_type": "code",
   "execution_count": 9,
   "metadata": {
    "collapsed": false
   },
   "outputs": [
    {
     "name": "stdout",
     "output_type": "stream",
     "text": [
      "{'10MWh_LOW-2010_1H-BP': {'freq': '1H',\n",
      "                          'node_path': 'data/10MWh_LOW.csv',\n",
      "                          'seq_path': 'data/sequences/2010_1H-BP_seq.csv'},\n",
      " '14MWh_LOW-2010_1H-BP': {'freq': '1H',\n",
      "                          'node_path': 'data/14MWh_LOW.csv',\n",
      "                          'seq_path': 'data/sequences/2010_1H-BP_seq.csv'},\n",
      " '17MWh_LOW-2010_2H-BP': {'freq': '2H',\n",
      "                          'node_path': 'data/17MWh_LOW.csv',\n",
      "                          'seq_path': 'data/sequences/2010_2H-BP_seq.csv'},\n",
      " '1MWh_LOW-2010_1H-BP': {'freq': '1H',\n",
      "                         'node_path': 'data/1MWh_LOW.csv',\n",
      "                         'seq_path': 'data/sequences/2010_1H-BP_seq.csv'},\n",
      " '2MWh_LOW-2010_1H-BP': {'freq': '1H',\n",
      "                         'node_path': 'data/2MWh_LOW.csv',\n",
      "                         'seq_path': 'data/sequences/2010_1H-BP_seq.csv'},\n",
      " '4MWh_LOW-2010_1H-BP': {'freq': '1H',\n",
      "                         'node_path': 'data/4MWh_LOW.csv',\n",
      "                         'seq_path': 'data/sequences/2010_1H-BP_seq.csv'}}\n"
     ]
    }
   ],
   "source": [
    "pprint.pprint(scenarios)"
   ]
  },
  {
   "cell_type": "code",
   "execution_count": 7,
   "metadata": {
    "collapsed": false
   },
   "outputs": [
    {
     "name": "stdout",
     "output_type": "stream",
     "text": [
      "11:04:18-INFO-Starting simulation with HESYSOPT!\n",
      "11:04:18-INFO-Reading nodes from csv-files...\n",
      "11:04:18-INFO-Creating optimization model...\n",
      "11:04:26-INFO-Solving optimization model...\n",
      "Parameter MIPGap unchanged\n",
      "   Value: 0.0001  Min: 0.0  Max: 1e+100  Default: 0.0001\n",
      "Parameter MIPGap unchanged\n",
      "   Value: 0.0001  Min: 0.0  Max: 1e+100  Default: 0.0001\n",
      "Optimize a model with 131404 rows, 96364 columns and 306607 nonzeros\n",
      "Coefficient statistics:\n",
      "  Matrix range    [2e-01, 1e+02]\n",
      "  Objective range [2e-02, 7e+03]\n",
      "  Bounds range    [1e+00, 3e+02]\n",
      "  RHS range       [1e+00, 3e+02]\n",
      "Found heuristic solution: objective 4.99665e+07\n",
      "Presolve removed 70086 rows and 52564 columns\n",
      "Presolve time: 0.67s\n",
      "Presolved: 61318 rows, 43800 columns, 175196 nonzeros\n",
      "Variable types: 35040 continuous, 8760 integer (8760 binary)\n",
      "\n",
      "Root simplex log...\n",
      "\n",
      "Iteration    Objective       Primal Inf.    Dual Inf.      Time\n",
      "   19636   -4.4352782e+33   5.043885e+33   4.435278e+03      5s\n",
      "   48706   -2.3892808e+33   3.316004e+33   3.058279e+05     10s\n",
      "  135593   -1.4176053e+33   2.037304e+33   1.814535e+05     15s\n",
      "  161157    3.0797863e+07   3.121076e+05   0.000000e+00     20s\n",
      "  177381    4.9899350e+07   0.000000e+00   0.000000e+00     24s\n",
      "\n",
      "Root relaxation: objective 4.989935e+07, 177381 iterations, 23.11 seconds\n",
      "\n",
      "    Nodes    |    Current Node    |     Objective Bounds      |     Work\n",
      " Expl Unexpl |  Obj  Depth IntInf | Incumbent    BestBd   Gap | It/Node Time\n",
      "\n",
      "     0     0 4.9899e+07    0    1 4.9967e+07 4.9899e+07  0.13%     -   24s\n",
      "H    0     0                    4.989941e+07 4.9899e+07  0.00%     -   24s\n",
      "\n",
      "Explored 0 nodes (177381 simplex iterations) in 24.09 seconds\n",
      "Thread count was 4 (of 4 available processors)\n",
      "\n",
      "Optimal solution found (tolerance 1.00e-04)\n",
      "Best objective 4.989941043409e+07, best bound 4.989935011246e+07, gap 0.0001%\n",
      "11:05:02-INFO-Done with scenario 1MWh_LOW-2010_1H-BP!\n"
     ]
    }
   ],
   "source": [
    "om, storage = run_scenario(sc='1MWh_LOW-2010_1H-BP', scenarios=scenarios)"
   ]
  },
  {
   "cell_type": "code",
   "execution_count": 10,
   "metadata": {
    "collapsed": false
   },
   "outputs": [],
   "source": [
    "import postprocessing as postp"
   ]
  },
  {
   "cell_type": "code",
   "execution_count": 11,
   "metadata": {
    "collapsed": false
   },
   "outputs": [
    {
     "data": {
      "text/html": [
       "<div>\n",
       "<table border=\"1\" class=\"dataframe\">\n",
       "  <thead>\n",
       "    <tr style=\"text-align: right;\">\n",
       "      <th></th>\n",
       "      <th></th>\n",
       "      <th></th>\n",
       "      <th></th>\n",
       "      <th></th>\n",
       "      <th>val</th>\n",
       "    </tr>\n",
       "    <tr>\n",
       "      <th>Scenario</th>\n",
       "      <th>bus_label</th>\n",
       "      <th>type</th>\n",
       "      <th>obj_label</th>\n",
       "      <th>datetime</th>\n",
       "      <th></th>\n",
       "    </tr>\n",
       "  </thead>\n",
       "  <tbody>\n",
       "    <tr>\n",
       "      <th rowspan=\"5\" valign=\"top\">1HBP</th>\n",
       "      <th rowspan=\"5\" valign=\"top\">electrical_balance</th>\n",
       "      <th rowspan=\"5\" valign=\"top\">from_bus</th>\n",
       "      <th rowspan=\"5\" valign=\"top\">ED</th>\n",
       "      <th>2014-01-01 00:00:00</th>\n",
       "      <td>0.0</td>\n",
       "    </tr>\n",
       "    <tr>\n",
       "      <th>2014-01-01 01:00:00</th>\n",
       "      <td>0.0</td>\n",
       "    </tr>\n",
       "    <tr>\n",
       "      <th>2014-01-01 02:00:00</th>\n",
       "      <td>0.0</td>\n",
       "    </tr>\n",
       "    <tr>\n",
       "      <th>2014-01-01 03:00:00</th>\n",
       "      <td>0.0</td>\n",
       "    </tr>\n",
       "    <tr>\n",
       "      <th>2014-01-01 04:00:00</th>\n",
       "      <td>0.0</td>\n",
       "    </tr>\n",
       "  </tbody>\n",
       "</table>\n",
       "</div>"
      ],
      "text/plain": [
       "                                                                    val\n",
       "Scenario bus_label          type     obj_label datetime                \n",
       "1HBP     electrical_balance from_bus ED        2014-01-01 00:00:00  0.0\n",
       "                                               2014-01-01 01:00:00  0.0\n",
       "                                               2014-01-01 02:00:00  0.0\n",
       "                                               2014-01-01 03:00:00  0.0\n",
       "                                               2014-01-01 04:00:00  0.0"
      ]
     },
     "execution_count": 11,
     "metadata": {},
     "output_type": "execute_result"
    }
   ],
   "source": [
    "postp.main_df.head()\n"
   ]
  },
  {
   "cell_type": "code",
   "execution_count": null,
   "metadata": {
    "collapsed": true
   },
   "outputs": [],
   "source": []
  }
 ],
 "metadata": {
  "kernelspec": {
   "display_name": "Python 3",
   "language": "python",
   "name": "python3"
  },
  "language_info": {
   "codemirror_mode": {
    "name": "ipython",
    "version": 3
   },
   "file_extension": ".py",
   "mimetype": "text/x-python",
   "name": "python",
   "nbconvert_exporter": "python",
   "pygments_lexer": "ipython3",
   "version": "3.5.2"
  }
 },
 "nbformat": 4,
 "nbformat_minor": 1
}
